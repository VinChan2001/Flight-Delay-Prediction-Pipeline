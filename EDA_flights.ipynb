{
 "cells": [
  {
   "cell_type": "code",
   "execution_count": 2,
   "id": "5857c676-4c76-4497-9c1c-64a233fd3165",
   "metadata": {},
   "outputs": [],
   "source": [
    "import pandas as pd\n",
    "\n",
    "fixed_df = pd.read_csv('data_fixed_types.csv',low_memory=False)"
   ]
  },
  {
   "cell_type": "code",
   "execution_count": 3,
   "id": "828b4cee-e288-4122-b882-2ca76040e6f0",
   "metadata": {},
   "outputs": [
    {
     "data": {
      "text/plain": [
       "(3617742, 136)"
      ]
     },
     "execution_count": 3,
     "metadata": {},
     "output_type": "execute_result"
    }
   ],
   "source": [
    "fixed_df.shape"
   ]
  },
  {
   "cell_type": "code",
   "execution_count": 4,
   "id": "72bd8990-ecc0-41ad-a557-6004afe66515",
   "metadata": {
    "scrolled": true
   },
   "outputs": [
    {
     "name": "stdout",
     "output_type": "stream",
     "text": [
      "YEAR\n",
      "MONTH\n",
      "FL_DATE\n",
      "OP_UNIQUE_CARRIER\n",
      "OP_CARRIER\n",
      "OP_CARRIER_FL_NUM\n",
      "ORIGIN_AIRPORT_ID\n",
      "ORIGIN\n",
      "ORIGIN_CITY_NAME\n",
      "ORIGIN_STATE_ABR\n",
      "ORIGIN_STATE_NM\n",
      "DEST_AIRPORT_ID\n",
      "DEST_AIRPORT_SEQ_ID\n",
      "DEST\n",
      "DEST_CITY_NAME\n",
      "DEST_STATE_ABR\n",
      "DEST_STATE_NM\n",
      "DEP_TIME\n",
      "DEP_DELAY\n",
      "DEP_DELAY_NEW\n",
      "DEP_DEL15\n",
      "DEP_DELAY_GROUP\n",
      "ARR_TIME\n",
      "ARR_DELAY\n",
      "ARR_DELAY_NEW\n",
      "ARR_DEL15\n",
      "ARR_DELAY_GROUP\n",
      "CANCELLED\n",
      "CANCELLATION_CODE\n",
      "DIVERTED\n",
      "AIR_TIME\n",
      "FLIGHTS\n",
      "DISTANCE\n",
      "DISTANCE_GROUP\n",
      "CARRIER_DELAY\n",
      "WEATHER_DELAY\n",
      "NAS_DELAY\n",
      "SECURITY_DELAY\n",
      "LATE_AIRCRAFT_DELAY\n",
      "SOURCE_FILE\n",
      "ORIGIN_LATITUDE_x\n",
      "ORIGIN_LONGITUDE_x\n",
      "ORIGIN_AIRPORT_NAME\n",
      "ORIGIN_CITY\n",
      "ORIGIN_COUNTRY\n",
      "ORIGIN_ALTITUDE\n",
      "ORIGIN_TIMEZONE\n",
      "ORIGIN_TZ_DATABASE\n",
      "DEST_LATITUDE_x\n",
      "DEST_LONGITUDE_x\n",
      "DEST_AIRPORT_NAME\n",
      "DEST_CITY\n",
      "DEST_COUNTRY\n",
      "DEST_ALTITUDE\n",
      "DEST_TIMEZONE\n",
      "DEST_TZ_DATABASE\n",
      "DEP_DELAY_MISSING\n",
      "ARR_DELAY_MISSING\n",
      "DELAY_CAUSE_REPORTED\n",
      "IS_DELAYED\n",
      "ORIGIN_CLUSTER_LAT\n",
      "ORIGIN_CLUSTER_LON\n",
      "ORIGIN_CLUSTER_ID\n",
      "DEST_CLUSTER_LAT\n",
      "DEST_CLUSTER_LON\n",
      "DEST_CLUSTER_ID\n",
      "ORIGIN_LATITUDE_y\n",
      "ORIGIN_LONGITUDE_y\n",
      "ORIGIN_TEMP_MAX\n",
      "ORIGIN_TEMP_MIN\n",
      "ORIGIN_TEMP_AVG\n",
      "ORIGIN_PRECIPITATION\n",
      "ORIGIN_PRECIPITATION_PROBABILITY\n",
      "ORIGIN_SNOW\n",
      "ORIGIN_SNOW_DEPTH\n",
      "ORIGIN_WIND_SPEED\n",
      "ORIGIN_WIND_DIRECTION\n",
      "ORIGIN_HUMIDITY\n",
      "ORIGIN_PRESSURE\n",
      "ORIGIN_CLOUD_COVER\n",
      "ORIGIN_VISIBILITY\n",
      "ORIGIN_CONDITIONS\n",
      "ORIGIN_WEATHER_ICON\n",
      "DEST_LATITUDE_y\n",
      "DEST_LONGITUDE_y\n",
      "DEST_TEMP_MAX\n",
      "DEST_TEMP_MIN\n",
      "DEST_TEMP_AVG\n",
      "DEST_PRECIPITATION\n",
      "DEST_PRECIPITATION_PROBABILITY\n",
      "DEST_SNOW\n",
      "DEST_SNOW_DEPTH\n",
      "DEST_WIND_SPEED\n",
      "DEST_WIND_DIRECTION\n",
      "DEST_HUMIDITY\n",
      "DEST_PRESSURE\n",
      "DEST_CLOUD_COVER\n",
      "DEST_VISIBILITY\n",
      "DEST_CONDITIONS\n",
      "DEST_WEATHER_ICON\n",
      "ORIGIN_EXTREME_WEATHER\n",
      "DEST_EXTREME_WEATHER\n",
      "ORIGIN_WEATHER_SEVERITY\n",
      "DEST_WEATHER_SEVERITY\n",
      "IS_HOLIDAY\n",
      "HOLIDAY_NAME\n",
      "HOLIDAY_TRAVEL_PERIOD\n",
      "DAY_OF_WEEK\n",
      "IS_WEEKEND\n",
      "WEEK_OF_YEAR\n",
      "DEP_DELAY_NEW_MISSING\n",
      "DEP_DEL15_MISSING\n",
      "DEP_DELAY_GROUP_MISSING\n",
      "ARR_DELAY_NEW_MISSING\n",
      "ARR_DEL15_MISSING\n",
      "ARR_DELAY_GROUP_MISSING\n",
      "AIR_TIME_MISSING\n",
      "CANCEL_REASON_A\n",
      "CANCEL_REASON_B\n",
      "CANCEL_REASON_C\n",
      "CANCEL_REASON_D\n",
      "CANCEL_REASON_N\n",
      "HAS_CARRIER_DELAY\n",
      "CARRIER_DELAY_SEVERITY\n",
      "HAS_WEATHER_DELAY\n",
      "WEATHER_DELAY_SEVERITY\n",
      "HAS_NAS_DELAY\n",
      "NAS_DELAY_SEVERITY\n",
      "HAS_SECURITY_DELAY\n",
      "SECURITY_DELAY_SEVERITY\n",
      "HAS_LATE_AIRCRAFT_DELAY\n",
      "LATE_AIRCRAFT_DELAY_SEVERITY\n",
      "WEATHER_IMPACT_SCORE\n",
      "MAX_WEATHER_SEVERITY\n",
      "SEVERITY_DISTANCE_EFFECT\n",
      "SEASON\n"
     ]
    }
   ],
   "source": [
    "for i in fixed_df.columns:\n",
    "    print(i)"
   ]
  },
  {
   "cell_type": "code",
   "execution_count": 5,
   "id": "31a2535f-0b21-4040-8116-916e8f70b6c1",
   "metadata": {},
   "outputs": [
    {
     "name": "stdout",
     "output_type": "stream",
     "text": [
      "Total flights in dataset: 3,617,742\n",
      "Time period covered: 2024-07-01 to 2024-12-31\n",
      "Number of unique carriers: 15\n",
      "Number of origin airports: 346\n",
      "Number of destination airports: 346\n"
     ]
    }
   ],
   "source": [
    "print(f\"Total flights in dataset: {len(fixed_df):,}\")\n",
    "print(f\"Time period covered: {fixed_df['FL_DATE'].min()} to {fixed_df['FL_DATE'].max()}\")\n",
    "print(f\"Number of unique carriers: {fixed_df['OP_UNIQUE_CARRIER'].nunique()}\")\n",
    "print(f\"Number of origin airports: {fixed_df['ORIGIN'].nunique()}\")\n",
    "print(f\"Number of destination airports: {fixed_df['DEST'].nunique()}\")"
   ]
  },
  {
   "cell_type": "code",
   "execution_count": 6,
   "id": "ba7a93be-3661-4ae0-9892-33f9858340a4",
   "metadata": {},
   "outputs": [],
   "source": [
    "delay_stats = {\n",
    "    'Average Departure Delay (minutes)': fixed_df['DEP_DELAY'].mean(),\n",
    "    'Average Arrival Delay (minutes)': fixed_df['ARR_DELAY'].mean(),\n",
    "    'Flights Delayed > 15 min (%)': fixed_df['DEP_DEL15'].mean() * 100,\n",
    "    'Flights Cancelled (%)': fixed_df['CANCELLED'].mean() * 100,\n",
    "    'Flights Diverted (%)': fixed_df['DIVERTED'].mean() * 100\n",
    "}\n",
    "\n",
    "delay_causes = {\n",
    "    'Carrier Delay (%)': fixed_df['HAS_CARRIER_DELAY'].mean() * 100,\n",
    "    'Weather Delay (%)': fixed_df['HAS_WEATHER_DELAY'].mean() * 100,\n",
    "    'NAS Delay (%)': fixed_df['HAS_NAS_DELAY'].mean() * 100,\n",
    "    'Security Delay (%)': fixed_df['HAS_SECURITY_DELAY'].mean() * 100,\n",
    "    'Late Aircraft Delay (%)': fixed_df['HAS_LATE_AIRCRAFT_DELAY'].mean() * 100\n",
    "}\n",
    "\n",
    "delay_severity = {\n",
    "    'Carrier Delay Severity (min)': fixed_df['CARRIER_DELAY_SEVERITY'].mean(),\n",
    "    'Weather Delay Severity (min)': fixed_df['WEATHER_DELAY_SEVERITY'].mean(),\n",
    "    'NAS Delay Severity (min)': fixed_df['NAS_DELAY_SEVERITY'].mean(),\n",
    "    'Security Delay Severity (min)': fixed_df['SECURITY_DELAY_SEVERITY'].mean(),\n",
    "    'Late Aircraft Delay Severity (min)': fixed_df['LATE_AIRCRAFT_DELAY_SEVERITY'].mean()\n",
    "}"
   ]
  },
  {
   "cell_type": "code",
   "execution_count": 12,
   "id": "fa71ce90-571f-449d-a606-6de1e7c13371",
   "metadata": {},
   "outputs": [
    {
     "name": "stdout",
     "output_type": "stream",
     "text": [
      "\n",
      "=== Delay Summary Statistics ===\n",
      "                           Metric  Value\n",
      "Average Departure Delay (minutes)  11.51\n",
      "  Average Arrival Delay (minutes)   5.88\n",
      "     Flights Delayed > 15 min (%)  19.37\n",
      "            Flights Cancelled (%)   1.32\n",
      "             Flights Diverted (%)   0.23\n",
      "\n",
      "=== Delay Causes Breakdown ===\n",
      "                  Cause  Percentage\n",
      "      Carrier Delay (%)      10.78%\n",
      "      Weather Delay (%)       1.09%\n",
      "          NAS Delay (%)       9.47%\n",
      "     Security Delay (%)       0.08%\n",
      "Late Aircraft Delay (%)       9.82%\n",
      "\n",
      "=== Delay Severity by Cause ===\n",
      "                             Cause  Minutes\n",
      "      Carrier Delay Severity (min)     0.19\n",
      "      Weather Delay Severity (min)     0.02\n",
      "          NAS Delay Severity (min)     0.15\n",
      "     Security Delay Severity (min)     0.00\n",
      "Late Aircraft Delay Severity (min)     0.20\n"
     ]
    }
   ],
   "source": [
    "delay_stats_df = pd.DataFrame(list(delay_stats.items()), columns=['Metric', 'Value'])\n",
    "delay_causes_df = pd.DataFrame(list(delay_causes.items()), columns=['Cause', 'Percentage'])\n",
    "delay_severity_df = pd.DataFrame(list(delay_severity.items()), columns=['Cause', 'Minutes'])\n",
    "\n",
    "print(\"\\n=== Delay Summary Statistics ===\")\n",
    "print(delay_stats_df.to_string(index=False, float_format=lambda x: f\"{x:.2f}\"))\n",
    "\n",
    "print(\"\\n=== Delay Causes Breakdown ===\")\n",
    "print(delay_causes_df.to_string(index=False, float_format=lambda x: f\"{x:.2f}%\"))\n",
    "\n",
    "print(\"\\n=== Delay Severity by Cause ===\")\n",
    "print(delay_severity_df.to_string(index=False, float_format=lambda x: f\"{x:.2f}\"))"
   ]
  },
  {
   "cell_type": "code",
   "execution_count": 7,
   "id": "f01e8fb4-3dc4-42d0-807c-04e9bf359e0f",
   "metadata": {},
   "outputs": [],
   "source": [
    "flight_stats = {\n",
    "    'Average Flight Distance (miles)': fixed_df['DISTANCE'].mean(),\n",
    "    'Average Air Time (minutes)': fixed_df['AIR_TIME'].mean(),\n",
    "    'Short Flights (<500 miles) (%)': (fixed_df['DISTANCE'] < 500).mean() * 100,\n",
    "    'Medium Flights (500-1500 miles) (%)': ((fixed_df['DISTANCE'] >= 500) & (fixed_df['DISTANCE'] < 1500)).mean() * 100,\n",
    "    'Long Flights (>1500 miles) (%)': (fixed_df['DISTANCE'] >= 1500).mean() * 100\n",
    "}\n",
    "\n",
    "time_stats = {\n",
    "    'Morning Flights (6AM-12PM) (%)': ((fixed_df['DEP_TIME'] >= 600) & (fixed_df['DEP_TIME'] < 1200)).mean() * 100,\n",
    "    'Afternoon Flights (12PM-6PM) (%)': ((fixed_df['DEP_TIME'] >= 1200) & (fixed_df['DEP_TIME'] < 1800)).mean() * 100,\n",
    "    'Evening Flights (6PM-12AM) (%)': ((fixed_df['DEP_TIME'] >= 1800) & (fixed_df['DEP_TIME'] < 2400)).mean() * 100,\n",
    "    'Night Flights (12AM-6AM) (%)': ((fixed_df['DEP_TIME'] < 600) | (fixed_df['DEP_TIME'] >= 2400)).mean() * 100,\n",
    "    'Weekend Flights (%)': fixed_df['IS_WEEKEND'].mean() * 100\n",
    "}"
   ]
  },
  {
   "cell_type": "code",
   "execution_count": 13,
   "id": "eb471360-fbdb-4cf4-b887-60b51286f689",
   "metadata": {},
   "outputs": [
    {
     "name": "stdout",
     "output_type": "stream",
     "text": [
      "\n",
      "=== Flight Distance and Duration Statistics ===\n",
      "Average Flight Distance (miles): 830.77\n",
      "Average Air Time (minutes): 112.24\n",
      "Short Flights (<500 miles) (%): 34.71%\n",
      "Medium Flights (500-1500 miles) (%): 52.22%\n",
      "Long Flights (>1500 miles) (%): 13.07%\n"
     ]
    }
   ],
   "source": [
    "print(\"\\n=== Flight Distance and Duration Statistics ===\")\n",
    "for stat, value in flight_stats.items():\n",
    "    if \"Average\" in stat:\n",
    "        print(f\"{stat}: {value:.2f}\")\n",
    "    else:\n",
    "        print(f\"{stat}: {value:.2f}%\")"
   ]
  },
  {
   "cell_type": "code",
   "execution_count": 14,
   "id": "f811e1ae-2309-483d-8f77-cf231d1d4de8",
   "metadata": {},
   "outputs": [
    {
     "name": "stdout",
     "output_type": "stream",
     "text": [
      "\n",
      "=== Flight Distribution by Time ===\n",
      "Morning Flights (6AM-12PM) (%): 36.44%\n",
      "Afternoon Flights (12PM-6PM) (%): 35.00%\n",
      "Evening Flights (6PM-12AM) (%): 23.00%\n",
      "Night Flights (12AM-6AM) (%): 5.56%\n",
      "Weekend Flights (%): 27.74%\n"
     ]
    }
   ],
   "source": [
    "print(\"\\n=== Flight Distribution by Time ===\")\n",
    "for period, percentage in time_stats.items():\n",
    "    print(f\"{period}: {percentage:.2f}%\")"
   ]
  },
  {
   "cell_type": "code",
   "execution_count": 8,
   "id": "c67dfac3-a10a-4947-a384-e51cfd23039c",
   "metadata": {},
   "outputs": [],
   "source": [
    "weather_stats = {\n",
    "    'Average Origin Weather Severity': fixed_df['ORIGIN_WEATHER_SEVERITY'].mean(),\n",
    "    'Average Destination Weather Severity': fixed_df['DEST_WEATHER_SEVERITY'].mean(),\n",
    "    'Flights with Extreme Weather at Origin (%)': fixed_df['ORIGIN_EXTREME_WEATHER'].mean() * 100,\n",
    "    'Flights with Extreme Weather at Destination (%)': fixed_df['DEST_EXTREME_WEATHER'].mean() * 100,\n",
    "    'Average Weather Impact Score': fixed_df['WEATHER_IMPACT_SCORE'].mean()\n",
    "}\n",
    "\n",
    "seasonal_stats = fixed_df['SEASON'].value_counts(normalize=True) * 100\n",
    "\n",
    "holiday_stats = {\n",
    "    'Holiday Flights (%)': fixed_df['IS_HOLIDAY'].mean() * 100,\n",
    "    'Peak Holiday Travel Period Flights (%)': fixed_df['HOLIDAY_TRAVEL_PERIOD'].mean() * 100\n",
    "}"
   ]
  },
  {
   "cell_type": "code",
   "execution_count": 15,
   "id": "895d5030-7bf8-4ead-82e5-5b41c961b768",
   "metadata": {},
   "outputs": [
    {
     "name": "stdout",
     "output_type": "stream",
     "text": [
      "\n",
      "=== Weather Impact Statistics ===\n",
      "Average Origin Weather Severity: 0.94\n",
      "Average Destination Weather Severity: 0.94\n",
      "Flights with Extreme Weather at Origin (%): 6.49%\n",
      "Flights with Extreme Weather at Destination (%): 6.49%\n",
      "Average Weather Impact Score: 0.12\n"
     ]
    }
   ],
   "source": [
    "print(\"\\n=== Weather Impact Statistics ===\")\n",
    "for stat, value in weather_stats.items():\n",
    "    if \"Average\" in stat:\n",
    "        print(f\"{stat}: {value:.2f}\")\n",
    "    else:\n",
    "        print(f\"{stat}: {value:.2f}%\")"
   ]
  },
  {
   "cell_type": "code",
   "execution_count": 16,
   "id": "0633c31b-f4fd-4837-b610-3c3566ee8d18",
   "metadata": {},
   "outputs": [
    {
     "name": "stdout",
     "output_type": "stream",
     "text": [
      "\n",
      "=== Seasonal Distribution ===\n",
      "Fall: 49.02%\n",
      "Summer: 34.65%\n",
      "Winter: 16.32%\n"
     ]
    }
   ],
   "source": [
    "print(\"\\n=== Seasonal Distribution ===\")\n",
    "for season, percentage in seasonal_stats.items():\n",
    "    print(f\"{season}: {percentage:.2f}%\")"
   ]
  },
  {
   "cell_type": "code",
   "execution_count": 17,
   "id": "831d4c9d-17c4-4a53-8113-f2327d2fba32",
   "metadata": {},
   "outputs": [
    {
     "name": "stdout",
     "output_type": "stream",
     "text": [
      "\n",
      "=== Holiday Statistics ===\n",
      "Holiday Flights (%): 17.62%\n",
      "Peak Holiday Travel Period Flights (%): 30.27%\n"
     ]
    }
   ],
   "source": [
    "print(\"\\n=== Holiday Statistics ===\")\n",
    "for stat, percentage in holiday_stats.items():\n",
    "    print(f\"{stat}: {percentage:.2f}%\")"
   ]
  },
  {
   "cell_type": "code",
   "execution_count": 9,
   "id": "97fc852d-8e4a-45fa-9d62-f91bf1b44daa",
   "metadata": {},
   "outputs": [],
   "source": [
    "carrier_performance = fixed_df.groupby('OP_UNIQUE_CARRIER').agg({\n",
    "    'DEP_DELAY': 'mean',\n",
    "    'ARR_DELAY': 'mean',\n",
    "    'DEP_DEL15': 'mean',\n",
    "    'CANCELLED': 'mean'\n",
    "}).sort_values('DEP_DEL15', ascending=False)\n",
    "\n",
    "carrier_performance['DEP_DEL15'] *= 100  # Convert to percentage\n",
    "carrier_performance['CANCELLED'] *= 100  # Convert to percentage\n",
    "carrier_performance.columns = ['Avg Departure Delay (min)', 'Avg Arrival Delay (min)', \n",
    "                               'Flights Delayed >15min (%)', 'Flights Cancelled (%)']"
   ]
  },
  {
   "cell_type": "code",
   "execution_count": 18,
   "id": "4df95080-1013-46f5-9522-58bd8b46d46a",
   "metadata": {
    "scrolled": true
   },
   "outputs": [
    {
     "name": "stdout",
     "output_type": "stream",
     "text": [
      "\n",
      "=== Carrier Delay Performance ===\n",
      "                   Avg Departure Delay (min)  Avg Arrival Delay (min)  Flights Delayed >15min (%)  Flights Cancelled (%)\n",
      "OP_UNIQUE_CARRIER                                                                                                       \n",
      "F9                                     15.54                    12.40                       25.19                   2.40\n",
      "B6                                     15.72                     9.40                       24.18                   1.64\n",
      "AA                                     18.43                    12.43                       23.62                   1.46\n",
      "NK                                     14.19                     7.41                       23.57                   2.37\n",
      "G4                                     14.45                    10.68                       21.45                   2.62\n",
      "WN                                     10.21                     3.14                       21.22                   0.69\n",
      "OH                                     15.16                    11.18                       20.40                   1.79\n",
      "AS                                      6.60                     3.92                       18.82                   0.80\n",
      "UA                                     10.60                     4.64                       17.60                   1.33\n",
      "DL                                     10.32                     3.78                       17.05                   1.53\n"
     ]
    }
   ],
   "source": [
    "print(\"\\n=== Carrier Delay Performance ===\")\n",
    "print(carrier_performance.head(10).to_string(float_format=lambda x: f\"{x:.2f}\"))"
   ]
  },
  {
   "cell_type": "code",
   "execution_count": 10,
   "id": "b7cf5c1f-c9a4-4640-a1a5-e9467a55de61",
   "metadata": {},
   "outputs": [],
   "source": [
    "top_routes = fixed_df.groupby(['ORIGIN', 'DEST']).size().sort_values(ascending=False).head(20)\n",
    "\n",
    "worst_delay_routes = fixed_df.groupby(['ORIGIN', 'DEST']).agg({\n",
    "    'DEP_DELAY': 'mean',\n",
    "    'ARR_DELAY': 'mean',\n",
    "    'DEP_DEL15': 'mean'\n",
    "}).sort_values('DEP_DELAY', ascending=False).head(20)"
   ]
  },
  {
   "cell_type": "code",
   "execution_count": 20,
   "id": "d9d46d1d-3d64-4550-b43b-442ecde02d7d",
   "metadata": {},
   "outputs": [
    {
     "name": "stdout",
     "output_type": "stream",
     "text": [
      "\n",
      "=== Top 20 Routes with Highest Average Delays ===\n",
      "             DEP_DELAY  ARR_DELAY  DEP_DEL15\n",
      "ORIGIN DEST                                 \n",
      "JFK    LGA      765.00     755.00       1.00\n",
      "IAD    MSN      309.00     325.00       1.00\n",
      "SRQ    IAH      253.83     249.67       0.83\n",
      "AVL    USA      240.00     310.00       1.00\n",
      "MVY    CLT      202.67     211.44       0.44\n",
      "OKC    CAE      174.00     171.00       1.00\n",
      "LAX    ATW      168.50     164.00       0.50\n",
      "SAV    BLV      168.00     164.33       0.50\n",
      "ATW    LAX      165.50     157.00       0.50\n",
      "BLV    SAV      155.67     159.00       0.50\n",
      "EGE    JFK      150.27     143.64       0.82\n",
      "FSD    FLL      143.50     141.25       0.75\n",
      "SNA    MIA      137.12     119.65       0.29\n",
      "RAP    XWA      121.00       0.00       1.00\n",
      "SRQ    DTW      120.91     127.73       0.45\n",
      "EGE    MIA      117.71     122.04       0.54\n",
      "HOU    DSM      116.08     118.50       0.50\n",
      "PGD    SAV      102.71      93.29       0.41\n",
      "HSV    OKC      102.00      89.50       0.50\n",
      "RDM    DFW      101.80      98.95       0.53\n"
     ]
    }
   ],
   "source": [
    "print(\"\\n=== Top 20 Routes with Highest Average Delays ===\")\n",
    "print(worst_delay_routes.head(20).to_string(float_format=lambda x: f\"{x:.2f}\"))"
   ]
  },
  {
   "cell_type": "code",
   "execution_count": 19,
   "id": "d1283965-2bd7-4026-a94e-d5ccca1cf5f5",
   "metadata": {},
   "outputs": [
    {
     "name": "stdout",
     "output_type": "stream",
     "text": [
      "\n",
      "=== Top 20 Most Congested Routes ===\n",
      "             Flight Count\n",
      "ORIGIN DEST              \n",
      "LAX    SFO           6044\n",
      "SFO    LAX           6039\n",
      "HNL    OGG           5815\n",
      "OGG    HNL           5813\n",
      "LGA    ORD           5605\n",
      "ORD    LGA           5604\n",
      "JFK    LAX           5227\n",
      "LAX    JFK           5222\n",
      "DCA    BOS           4912\n",
      "BOS    DCA           4911\n",
      "LAS    LAX           4905\n",
      "LAX    LAS           4905\n",
      "DEN    PHX           4636\n",
      "PHX    DEN           4633\n",
      "LIH    HNL           4323\n",
      "HNL    LIH           4322\n",
      "MCO    ATL           4294\n",
      "ATL    MCO           4293\n",
      "DEN    LAX           4041\n",
      "LAX    DEN           4040\n"
     ]
    }
   ],
   "source": [
    "print(\"\\n=== Top 20 Most Congested Routes ===\")\n",
    "print(top_routes.to_frame('Flight Count').head(20).to_string())"
   ]
  },
  {
   "cell_type": "code",
   "execution_count": 11,
   "id": "4d1a7c2a-c831-48c9-8da3-20458c57f3fc",
   "metadata": {},
   "outputs": [],
   "source": [
    "missing_values = fixed_df.isnull().sum().sort_values(ascending=False)\n",
    "missing_percent = (missing_values / len(fixed_df)) * 100\n",
    "missing_summary = pd.DataFrame({\n",
    "    'Missing Values': missing_values,\n",
    "    'Percentage (%)': missing_percent\n",
    "}).query('`Missing Values` > 0')"
   ]
  },
  {
   "cell_type": "code",
   "execution_count": 21,
   "id": "3df20b0e-018a-4e68-8c49-3a355a8d5857",
   "metadata": {},
   "outputs": [
    {
     "name": "stdout",
     "output_type": "stream",
     "text": [
      "\n",
      "=== Missing Value Analysis ===\n",
      "Empty DataFrame\n",
      "Columns: [Missing Values, Percentage (%)]\n",
      "Index: []\n"
     ]
    }
   ],
   "source": [
    "print(\"\\n=== Missing Value Analysis ===\")\n",
    "print(missing_summary.to_string(float_format=lambda x: f\"{x:.2f}%\"))"
   ]
  }
 ],
 "metadata": {
  "kernelspec": {
   "display_name": "Python 3 (ipykernel)",
   "language": "python",
   "name": "python3"
  },
  "language_info": {
   "codemirror_mode": {
    "name": "ipython",
    "version": 3
   },
   "file_extension": ".py",
   "mimetype": "text/x-python",
   "name": "python",
   "nbconvert_exporter": "python",
   "pygments_lexer": "ipython3",
   "version": "3.12.7"
  }
 },
 "nbformat": 4,
 "nbformat_minor": 5
}
